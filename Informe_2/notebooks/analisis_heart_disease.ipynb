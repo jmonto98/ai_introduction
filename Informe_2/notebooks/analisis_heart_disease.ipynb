{
 "cells": [
  {
   "cell_type": "code",
   "execution_count": 8,
   "id": "3475ed23",
   "metadata": {},
   "outputs": [],
   "source": [
    "# --- Import necessary libraries ---\n",
    "import pandas as pd\n",
    "from sklearn.model_selection import train_test_split\n",
    "from sklearn.preprocessing import StandardScaler, OneHotEncoder\n",
    "from sklearn.compose import ColumnTransformer\n",
    "from sklearn.pipeline import Pipeline\n",
    "from sklearn.impute import SimpleImputer\n",
    "from sklearn.metrics import accuracy_score, f1_score\n",
    "from sklearn.ensemble import RandomForestClassifier\n",
    "from sklearn.neighbors import KNeighborsClassifier\n",
    "from tensorflow import keras"
   ]
  },
  {
   "cell_type": "code",
   "execution_count": 9,
   "id": "bac48df8",
   "metadata": {},
   "outputs": [],
   "source": [
    "# --- Evaluation function for Keras model ---\n",
    "def f1_from_keras(model, X_test, y_test, threshold=0.5):\n",
    "    \"\"\"\n",
    "    Calcula F1 para una red neuronal Keras binaria.\n",
    "    \"\"\"\n",
    "    y_proba = model.predict(X_test)\n",
    "    y_pred = (y_proba > threshold).astype(\"int32\")\n",
    "    return f1_score(y_test, y_pred)\n"
   ]
  },
  {
   "cell_type": "code",
   "execution_count": 10,
   "id": "b518f313",
   "metadata": {},
   "outputs": [],
   "source": [
    "\n",
    "# --- Load Dataset ---\n",
    "df = pd.read_csv(\"../data/heart.csv\")  # ruta al CSV\n",
    "X = df.drop(\"target\", axis=1)\n",
    "y = df[\"target\"]\n",
    "\n",
    "# --- Define Columns ---\n",
    "num_cols = ['age','trestbps','chol','thalach','oldpeak']\n",
    "cat_cols = [c for c in X.columns if c not in num_cols]\n",
    "\n",
    "# --- Preprocessing ---\n",
    "num_pipe = Pipeline([\n",
    "    (\"imputer\", SimpleImputer(strategy=\"median\")),\n",
    "    (\"scaler\", StandardScaler())\n",
    "])\n",
    "cat_pipe = Pipeline([\n",
    "    (\"imputer\", SimpleImputer(strategy=\"most_frequent\")),\n",
    "    (\"onehot\", OneHotEncoder(handle_unknown=\"ignore\"))\n",
    "])\n",
    "\n",
    "preprocessor = ColumnTransformer([\n",
    "    (\"num\", num_pipe, num_cols),\n",
    "    (\"cat\", cat_pipe, cat_cols)\n",
    "])\n",
    "\n",
    "X_train, X_test, y_train, y_test = train_test_split(\n",
    "    X, y, test_size=0.3, stratify=y, random_state=42\n",
    ")\n"
   ]
  },
  {
   "cell_type": "code",
   "execution_count": 11,
   "id": "c64f9e6b",
   "metadata": {},
   "outputs": [],
   "source": [
    "# --- Applied Techniques ---\n",
    "\n",
    "# Classic Model: Random Forest ---\n",
    "rf = Pipeline([\n",
    "    (\"prep\", preprocessor),\n",
    "    (\"clf\", RandomForestClassifier(n_estimators=200, random_state=42))\n",
    "])\n",
    "rf.fit(X_train, y_train)\n",
    "y_pred = rf.predict(X_test)\n",
    "\n",
    "\n",
    "# --- Neuronal Network (Keras) ---\n",
    "from sklearn.preprocessing import OneHotEncoder\n",
    "X_train_proc = preprocessor.fit_transform(X_train)\n",
    "X_test_proc = preprocessor.transform(X_test)\n",
    "\n",
    "model = keras.Sequential([\n",
    "    keras.layers.Input(shape=(X_train_proc.shape[1],)),\n",
    "    keras.layers.Dense(16, activation='relu'),\n",
    "    keras.layers.Dense(8, activation='relu'),\n",
    "    keras.layers.Dense(1, activation='sigmoid')\n",
    "])\n",
    "model.compile(optimizer='adam', loss='binary_crossentropy', metrics=['accuracy'])\n",
    "model.fit(X_train_proc, y_train, epochs=50, batch_size=16, verbose=0)\n",
    "\n",
    "\n",
    "# --- Algoritmo adicional: KNN ---\n",
    "knn = Pipeline([\n",
    "    (\"prep\", preprocessor),\n",
    "    (\"clf\", KNeighborsClassifier(n_neighbors=5))\n",
    "])\n",
    "knn.fit(X_train, y_train)\n",
    "y_pred_knn = knn.predict(X_test)"
   ]
  },
  {
   "cell_type": "code",
   "execution_count": 12,
   "id": "177c91ed",
   "metadata": {},
   "outputs": [
    {
     "name": "stdout",
     "output_type": "stream",
     "text": [
      "RandomForest Accuracy: 0.9902597402597403\n",
      "F1: 0.9904153354632588\n",
      "NN Accuracy: 0.951298713684082\n",
      "\u001b[1m10/10\u001b[0m \u001b[32m━━━━━━━━━━━━━━━━━━━━\u001b[0m\u001b[37m\u001b[0m \u001b[1m0s\u001b[0m 7ms/step \n",
      "NN F1: 0.9514563106796117\n",
      "KNN Accuracy: 0.8538961038961039\n",
      "F1: 0.8562300319488818\n"
     ]
    }
   ],
   "source": [
    "# --- Results ---\n",
    "\n",
    "print(\"RandomForest Accuracy:\", accuracy_score(y_test, y_pred))\n",
    "print(\"F1:\", f1_score(y_test, y_pred))\n",
    "\n",
    "print(\"NN Accuracy:\", model.evaluate(X_test_proc, y_test, verbose=0)[1])\n",
    "print(\"NN F1:\", f1_from_keras(model, X_test_proc, y_test))\n",
    "\n",
    "print(\"KNN Accuracy:\", accuracy_score(y_test, y_pred_knn))\n",
    "print(\"F1:\", f1_score(y_test, y_pred_knn))"
   ]
  }
 ],
 "metadata": {
  "kernelspec": {
   "display_name": ".venv",
   "language": "python",
   "name": "python3"
  },
  "language_info": {
   "codemirror_mode": {
    "name": "ipython",
    "version": 3
   },
   "file_extension": ".py",
   "mimetype": "text/x-python",
   "name": "python",
   "nbconvert_exporter": "python",
   "pygments_lexer": "ipython3",
   "version": "3.11.13"
  }
 },
 "nbformat": 4,
 "nbformat_minor": 5
}
