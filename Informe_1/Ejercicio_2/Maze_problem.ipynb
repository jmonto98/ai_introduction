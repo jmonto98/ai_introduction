{
  "cells": [
    {
      "cell_type": "code",
      "execution_count": 1,
      "metadata": {
        "id": "xoZn6b-uZt8r"
      },
      "outputs": [],
      "source": [
        "import heapq #El módulo heapq implementa colas de prioridad (heaps)"
      ]
    },
    {
      "cell_type": "code",
      "execution_count": 2,
      "metadata": {
        "id": "4Rahk-56Z9jq"
      },
      "outputs": [],
      "source": [
        "class Node:\n",
        "    def __init__(self, position, parent=None, action=None, path_cost=0):\n",
        "        self.position = position\n",
        "        self.parent = parent\n",
        "        self.action = action  # Acción que llevó a este nodo\n",
        "        self.path_cost = path_cost\n",
        "\n",
        "    def __lt__(self, other):\n",
        "        return self.path_cost < other.path_cost\n",
        "\n",
        "class Problem:\n",
        "    def __init__(self, initial_state, goal_state, maze):\n",
        "        self.initial_state = initial_state\n",
        "        self.goal_state = goal_state\n",
        "        self.maze = maze\n",
        "        # Definimos las acciones posibles: (delta_x, delta_y, nombre)\n",
        "        self.actions = {\n",
        "            'Up': (-1, 0),\n",
        "            'Down': (1, 0),\n",
        "            'Left': (0, -1),\n",
        "            'Right': (0, 1)\n",
        "        }\n",
        "    \n",
        "    def is_goal(self, state):\n",
        "        return state == self.goal_state\n",
        "    \n",
        "    def get_actions(self, state):\n",
        "        return list(self.actions.keys())\n",
        "    \n",
        "    def result(self, state, action):\n",
        "        move = self.actions[action]\n",
        "        return (state[0] + move[0], state[1] + move[1])\n",
        "    \n",
        "    def action_cost(self, state1, action, state2):\n",
        "        return 1  # Todos los movimientos tienen costo 1\n",
        "    \n",
        "    def is_valid_position(self, pos):\n",
        "        x, y = pos\n",
        "        return (0 <= x < len(self.maze) and \n",
        "                0 <= y < len(self.maze[0]) and \n",
        "                self.maze[x][y] != \"#\")"
      ]
    },
    {
      "cell_type": "code",
      "execution_count": 3,
      "metadata": {
        "id": "7B4dgvTgaBhf"
      },
      "outputs": [],
      "source": [
        "def find_exit(maze):\n",
        "    # Encontrar posición inicial (S) y salida (E)\n",
        "    start = None\n",
        "    end = None\n",
        "    for i in range(len(maze)):\n",
        "        for j in range(len(maze[i])):\n",
        "            if maze[i][j] == \"S\":\n",
        "                start = (i, j)\n",
        "            elif maze[i][j] == \"E\":\n",
        "                end = (i, j)\n",
        "    \n",
        "    if not start or not end:\n",
        "        raise ValueError(\"Laberinto no tiene punto de inicio (S) o salida (E)\")\n",
        "    \n",
        "    problem = Problem(start, end, maze)\n",
        "\n",
        "    def manhattan_distance(pos, goal):\n",
        "        return abs(pos[0] - goal[0]) + abs(pos[1] - goal[1])\n",
        "\n",
        "    def get_neighbors(node):\n",
        "        neighbors = []\n",
        "        for action in problem.get_actions(node.position):\n",
        "            new_pos = problem.result(node.position, action)\n",
        "            if problem.is_valid_position(new_pos):\n",
        "                new_cost = node.path_cost + problem.action_cost(node.position, action, new_pos)\n",
        "                neighbors.append(Node(new_pos, node, action, new_cost))\n",
        "        return neighbors\n",
        "\n",
        "    start_node = Node(start, path_cost=0)\n",
        "    frontier = []\n",
        "    heapq.heappush(frontier, (manhattan_distance(start, end), start_node))\n",
        "    reached = {start: start_node}\n",
        "\n",
        "    while frontier:\n",
        "        _, node = heapq.heappop(frontier)\n",
        "        if problem.is_goal(node.position):\n",
        "            return reconstruct_path(node)\n",
        "\n",
        "        for neighbor in get_neighbors(node):\n",
        "            if neighbor.position not in reached or neighbor.path_cost < reached[neighbor.position].path_cost:\n",
        "                reached[neighbor.position] = neighbor\n",
        "                heapq.heappush(frontier, (neighbor.path_cost + manhattan_distance(neighbor.position, end), neighbor))\n",
        "\n",
        "    return None  # No se encontró salida"
      ]
    },
    {
      "cell_type": "code",
      "execution_count": 4,
      "metadata": {
        "id": "nr1f-OMmaPZy"
      },
      "outputs": [],
      "source": [
        "def reconstruct_path(node):\n",
        "    path = []\n",
        "    actions = []\n",
        "    while node:\n",
        "        path.append(node.position)\n",
        "        if node.action:\n",
        "            actions.append(node.action)\n",
        "        node = node.parent\n",
        "    path.reverse()\n",
        "    actions.reverse()\n",
        "    return path, actions"
      ]
    },
    {
      "cell_type": "code",
      "execution_count": 5,
      "metadata": {
        "id": "goDWZANwaRuK"
      },
      "outputs": [
        {
          "name": "stdout",
          "output_type": "stream",
          "text": [
            "Laberinto original:\n",
            "Camino a la salida (coordenadas): [(1, 1), (2, 1), (2, 2), (2, 3), (3, 3), (3, 4), (3, 5), (2, 5), (1, 5), (1, 6)]\n",
            "Acciones tomadas: ['Down', 'Right', 'Right', 'Down', 'Right', 'Right', 'Up', 'Up', 'Right']\n"
          ]
        }
      ],
      "source": [
        "# Laberinto original\n",
        "maze = [\n",
        "    [\"#\", \"#\", \"#\", \"#\", \"#\", \"#\", \"#\", \"#\"],\n",
        "    [\"#\", \"S\", \"#\", \" \", \"#\", \" \", \"E\", \"#\"],\n",
        "    [\"#\", \" \", \" \", \" \", \"#\", \" \", \" \", \"#\"],\n",
        "    [\"#\", \" \", \"#\", \" \", \" \", \" \", \"#\", \"#\"],\n",
        "    [\"#\", \"#\", \"#\", \"#\", \"#\", \"#\", \"#\", \"#\"],\n",
        "    [\"#\", \"#\", \"#\", \"#\", \"#\", \"#\", \"#\", \"#\"]\n",
        "]\n",
        "\n",
        "print(\"Laberinto original:\")\n",
        "path, actions = find_exit(maze)\n",
        "print(\"Camino a la salida (coordenadas):\", path)\n",
        "print(\"Acciones tomadas:\", actions)\n",
        "\n",
        "# Laberinto más grande con múltiples salidas\n",
        "big_maze = [\n",
        "    [\"#\", \"#\", \"#\", \"#\", \"#\", \"#\", \"#\", \"#\", \"#\", \"#\"],\n",
        "    [\"#\", \" \", \" \", \" \", \"#\", \"E\", \" \", \" \", \" \", \"#\"],\n",
        "    [\"#\", \"S\", \"#\", \" \", \"#\", \" \", \"#\", \"#\", \" \", \"#\"],\n",
        "    [\"#\", \" \", \"#\", \"E\", \" \", \" \", \"#\", \" \", \" \", \"#\"],\n",
        "    [\"#\", \" \", \"#\", \"#\", \"#\", \"#\", \"#\", \" \", \"#\", \"#\"],\n",
        "    [\"#\", \" \", \" \", \" \", \" \", \" \", \" \", \" \", \" \", \"#\"],\n",
        "    [\"#\", \"#\", \"#\", \"#\", \"#\", \"#\", \"#\", \"#\", \" \", \"#\"],\n",
        "    [\"#\", \"#\", \"#\", \"#\", \"#\", \"#\", \"#\", \"#\", \"#\", \"#\"]\n",
        "]"
      ]
    },
    {
      "cell_type": "code",
      "execution_count": 6,
      "metadata": {},
      "outputs": [
        {
          "name": "stdout",
          "output_type": "stream",
          "text": [
            "\n",
            "Laberinto grande con múltiples salidas:\n",
            "Camino más corto a una salida (coordenadas): [(2, 1), (1, 1), (1, 2), (1, 3), (2, 3), (3, 3)]\n",
            "Acciones tomadas: ['Up', 'Right', 'Right', 'Down', 'Down']\n"
          ]
        }
      ],
      "source": [
        "def find_all_exits(maze):\n",
        "    # Encontrar todas las salidas\n",
        "    exits = []\n",
        "    for i in range(len(maze)):\n",
        "        for j in range(len(maze[i])):\n",
        "            if maze[i][j] == \"E\":\n",
        "                exits.append((i, j))\n",
        "    return exits\n",
        "\n",
        "def find_nearest_exit(maze):\n",
        "    start = None\n",
        "    for i in range(len(maze)):\n",
        "        for j in range(len(maze[i])):\n",
        "            if maze[i][j] == \"S\":\n",
        "                start = (i, j)\n",
        "                break\n",
        "        if start:\n",
        "            break\n",
        "    \n",
        "    exits = find_all_exits(maze)\n",
        "    if not exits:\n",
        "        return None\n",
        "    \n",
        "    # Buscar el camino más corto a cualquier salida\n",
        "    shortest_path = None\n",
        "    shortest_actions = None\n",
        "    min_length = float('inf')\n",
        "    \n",
        "    for exit_pos in exits:\n",
        "        problem = Problem(start, exit_pos, maze)\n",
        "        path, actions = find_exit(maze)  # Reutilizamos la función anterior\n",
        "        if path and len(path) < min_length:\n",
        "            min_length = len(path)\n",
        "            shortest_path = path\n",
        "            shortest_actions = actions\n",
        "    \n",
        "    return shortest_path, shortest_actions\n",
        "\n",
        "print(\"\\nLaberinto grande con múltiples salidas:\")\n",
        "path, actions = find_nearest_exit(big_maze)\n",
        "print(\"Camino más corto a una salida (coordenadas):\", path)\n",
        "print(\"Acciones tomadas:\", actions)"
      ]
    }
  ],
  "metadata": {
    "colab": {
      "provenance": []
    },
    "kernelspec": {
      "display_name": ".venv",
      "language": "python",
      "name": "python3"
    },
    "language_info": {
      "codemirror_mode": {
        "name": "ipython",
        "version": 3
      },
      "file_extension": ".py",
      "mimetype": "text/x-python",
      "name": "python",
      "nbconvert_exporter": "python",
      "pygments_lexer": "ipython3",
      "version": "3.13.2"
    }
  },
  "nbformat": 4,
  "nbformat_minor": 0
}
