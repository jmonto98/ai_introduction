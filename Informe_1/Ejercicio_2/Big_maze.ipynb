{
 "cells": [
  {
   "cell_type": "code",
   "execution_count": 7,
   "id": "5af091fb",
   "metadata": {},
   "outputs": [
    {
     "name": "stdout",
     "output_type": "stream",
     "text": [
      "Punto de inicio (S): (3, 1)\n",
      "Salidas encontradas: [(1, 5), (4, 5), (5, 8)]\n",
      "Distancia óptima: [6, 5, 9]\n",
      "Salida óptima: (4, 5)\n"
     ]
    }
   ],
   "source": [
    "big_maze = [\n",
    "    [\"#\", \"#\", \"#\", \"#\", \"#\", \"#\", \"#\", \"#\", \"#\", \"#\"],\n",
    "    [\"#\", \"E\", \" \", \" \", \"#\", \"E\", \" \", \" \", \" \", \"#\"],\n",
    "    [\"#\", \"+\", \"#\", \"#\", \"#\", \" \", \"#\", \"#\", \" \", \"#\"],\n",
    "    [\"#\", \"S\", \"#\", \" \", \" \", \" \", \"#\", \" \", \" \", \"#\"],\n",
    "    [\"#\", \" \", \"#\", \" \", \"#\", \"E\", \"#\", \" \", \"#\", \"#\"],\n",
    "    [\"#\", \" \", \" \", \" \", \"#\", \" \", \" \", \" \", \"E\", \"#\"],\n",
    "    [\"#\", \"#\", \"#\", \"#\", \"#\", \"#\", \"#\", \"#\", \" \", \"#\"],\n",
    "    [\"#\", \"#\", \"#\", \"#\", \"#\", \"#\", \"#\", \"#\", \"#\", \"#\"]\n",
    "]\n",
    "\n",
    "def manhattan_distance(pos, goal):\n",
    "        return abs(pos[0] - goal[0]) + abs(pos[1] - goal[1])\n",
    "    \n",
    "def find_start(maze):\n",
    "    for r, row in enumerate(maze):\n",
    "        for c, value in enumerate(row):\n",
    "            if value == \"S\":\n",
    "                return r, c\n",
    "    return None\n",
    "\n",
    "def find_exits(maze, row, col, visited=None, exits=None):\n",
    "    obstacles = [\"#\",\"%\",\"+\"]\n",
    "    if visited is None:\n",
    "        visited = set()\n",
    "    if exits is None:\n",
    "        exits = []\n",
    "\n",
    "    # Verificar límites\n",
    "    if row < 0 or row >= len(maze) or col < 0 or col >= len(maze[0]):\n",
    "        return\n",
    "\n",
    "    # Si es pared o ya visitado, detener\n",
    "    if maze[row][col] in obstacles or (row, col) in visited:\n",
    "        return\n",
    "\n",
    "    # Marcar como visitado\n",
    "    visited.add((row, col))\n",
    "\n",
    "    # Si encontramos salida, agregarla\n",
    "    if maze[row][col] == \"E\":\n",
    "        exits.append((row, col))\n",
    "\n",
    "\n",
    "    # Explorar en las 4 direcciones\n",
    "    find_exits(maze, row-1, col, visited, exits)  # Arriba\n",
    "    find_exits(maze, row+1, col, visited, exits)  # Abajo\n",
    "    find_exits(maze, row, col-1, visited, exits)  # Izquierda\n",
    "    find_exits(maze, row, col+1, visited, exits)  # Derecha\n",
    "\n",
    "    return exits\n",
    "\n",
    "# Encontrar posición inicial\n",
    "start = find_start(big_maze)\n",
    "if start:\n",
    "    all_exits = find_exits(big_maze, *start)\n",
    "    optimal_exit = min(all_exits, key=lambda exit: manhattan_distance(start, exit))\n",
    "    optimal = []\n",
    "    for exit in all_exits: \n",
    "        optimal.append(manhattan_distance(start, exit))\n",
    "    print(\"Punto de inicio (S):\", start)    \n",
    "    print(\"Salidas encontradas:\", all_exits)\n",
    "    print(\"Distancia óptima:\", optimal)\n",
    "    print(\"Salida óptima:\", optimal_exit)\n",
    "else:\n",
    "    print(\"No se encontró el punto de inicio (S)\")\n"
   ]
  }
 ],
 "metadata": {
  "kernelspec": {
   "display_name": ".venv",
   "language": "python",
   "name": "python3"
  },
  "language_info": {
   "codemirror_mode": {
    "name": "ipython",
    "version": 3
   },
   "file_extension": ".py",
   "mimetype": "text/x-python",
   "name": "python",
   "nbconvert_exporter": "python",
   "pygments_lexer": "ipython3",
   "version": "3.13.2"
  }
 },
 "nbformat": 4,
 "nbformat_minor": 5
}
